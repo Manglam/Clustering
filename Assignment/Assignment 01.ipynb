{
 "cells": [
  {
   "cell_type": "code",
   "execution_count": 1,
   "id": "9babf1c1",
   "metadata": {},
   "outputs": [],
   "source": [
    "import pandas as pd\n",
    "import numpy as np\n",
    "\n",
    "from sklearn.cluster import KMeans\n",
    "\n",
    "from sklearn.preprocessing import StandardScaler\n",
    "\n",
    "import matplotlib.pyplot as plt\n",
    "import seaborn as sns"
   ]
  },
  {
   "cell_type": "code",
   "execution_count": 2,
   "id": "74ae2c2c",
   "metadata": {},
   "outputs": [
    {
     "data": {
      "text/html": [
       "<div>\n",
       "<style scoped>\n",
       "    .dataframe tbody tr th:only-of-type {\n",
       "        vertical-align: middle;\n",
       "    }\n",
       "\n",
       "    .dataframe tbody tr th {\n",
       "        vertical-align: top;\n",
       "    }\n",
       "\n",
       "    .dataframe thead th {\n",
       "        text-align: right;\n",
       "    }\n",
       "</style>\n",
       "<table border=\"1\" class=\"dataframe\">\n",
       "  <thead>\n",
       "    <tr style=\"text-align: right;\">\n",
       "      <th></th>\n",
       "      <th>Name</th>\n",
       "      <th>Calories</th>\n",
       "      <th>Sodium</th>\n",
       "      <th>Alcohol</th>\n",
       "      <th>Cost</th>\n",
       "    </tr>\n",
       "  </thead>\n",
       "  <tbody>\n",
       "    <tr>\n",
       "      <th>0</th>\n",
       "      <td>Budweiser</td>\n",
       "      <td>144</td>\n",
       "      <td>15</td>\n",
       "      <td>4.7</td>\n",
       "      <td>0.43</td>\n",
       "    </tr>\n",
       "    <tr>\n",
       "      <th>1</th>\n",
       "      <td>Schlitz</td>\n",
       "      <td>151</td>\n",
       "      <td>19</td>\n",
       "      <td>4.9</td>\n",
       "      <td>0.43</td>\n",
       "    </tr>\n",
       "  </tbody>\n",
       "</table>\n",
       "</div>"
      ],
      "text/plain": [
       "        Name  Calories  Sodium  Alcohol  Cost\n",
       "0  Budweiser       144      15      4.7  0.43\n",
       "1    Schlitz       151      19      4.9  0.43"
      ]
     },
     "execution_count": 2,
     "metadata": {},
     "output_type": "execute_result"
    }
   ],
   "source": [
    "df = pd.read_excel(\"Beer_Grouping.xlsx\")\n",
    "df.head(2)"
   ]
  },
  {
   "cell_type": "code",
   "execution_count": 3,
   "id": "59fc6409",
   "metadata": {},
   "outputs": [],
   "source": [
    "# Standardize each columns before kmeans clustering\n",
    "df.iloc[:,1:] = StandardScaler().fit_transform(df.iloc[:,1:])"
   ]
  },
  {
   "cell_type": "code",
   "execution_count": 4,
   "id": "c2735c8c",
   "metadata": {},
   "outputs": [],
   "source": [
    "# clustering can be done by using the numerical columns\n",
    "sel_cols = ['Calories', 'Sodium', 'Alcohol', 'Cost']\n",
    "kmeans = KMeans(n_clusters = 3, max_iter = 1000, n_init = 10, init = 'k-means++', random_state=123).fit(df[sel_cols])"
   ]
  },
  {
   "cell_type": "code",
   "execution_count": 5,
   "id": "321b60b0",
   "metadata": {},
   "outputs": [],
   "source": [
    "df['cluster'] = kmeans.labels_\n",
    "df['cluster'] = ['Cluster_' + str(x) for x in kmeans.labels_.tolist()]"
   ]
  },
  {
   "cell_type": "code",
   "execution_count": 6,
   "id": "57da6c49",
   "metadata": {},
   "outputs": [],
   "source": [
    "#df.sort_values(by=['cluster'], axis = 0)"
   ]
  },
  {
   "cell_type": "code",
   "execution_count": 7,
   "id": "c00ae82f",
   "metadata": {},
   "outputs": [
    {
     "data": {
      "image/png": "[encoded data removed]",
      "text/plain": [
       "<Figure size 1296x288 with 2 Axes>"
      ]
     },
     "metadata": {
      "needs_background": "light"
     },
     "output_type": "display_data"
    }
   ],
   "source": [
    "fig, (ax1, ax2) = plt.subplots(1,2, figsize=(18,4), sharex=False, sharey=False)\n",
    "\n",
    "# Visualize clusters\n",
    "ax1.set_title('Calories vs Sodium')\n",
    "sns.scatterplot(data=df, x='Calories', y='Sodium', hue='cluster', ax=ax1);\n",
    "\n",
    "ax2.set_title('Alcohol vs Cost')\n",
    "sns.scatterplot(data=df, x='Alcohol', y='Cost', hue='cluster', ax=ax2);"
   ]
  },
  {
   "cell_type": "markdown",
   "id": "5696790a",
   "metadata": {},
   "source": [
    "# Interpretation\n",
    "\n",
    "We observe following clusters:\n",
    "\n",
    "| Property | Cluster 0 | Cluster 1 | Cluster 2 |\n",
    "| -------- | --------- | --------- | --------- |\n",
    "| Cost     | High      | Medium    | Low       |\n",
    "| Alcohol  | HIgh      | Low       | High      |\n",
    "| Calories | High      | Low       | High      |\n",
    "| Sodium   | Low       | Low       | High      | \n",
    "\n",
    "Based on above table, we can say that `Clustrer 0` Beers are of premium class, followed by Cluster 1. `Cluster 1` Beers will be mid card beers, and are of moderate quality. `Cluster 2` have beers, which will be cheaper and least quality and taste."
   ]
  },
  {
   "cell_type": "code",
   "execution_count": null,
   "id": "502d9928",
   "metadata": {},
   "outputs": [],
   "source": []
  }
 ],
 "metadata": {
  "kernelspec": {
   "display_name": "Python 3 (ipykernel)",
   "language": "python",
   "name": "python3"
  },
  "language_info": {
   "codemirror_mode": {
    "name": "ipython",
    "version": 3
   },
   "file_extension": ".py",
   "mimetype": "text/x-python",
   "name": "python",
   "nbconvert_exporter": "python",
   "pygments_lexer": "ipython3",
   "version": "3.8.10"
  }
 },
 "nbformat": 4,
 "nbformat_minor": 5
}
