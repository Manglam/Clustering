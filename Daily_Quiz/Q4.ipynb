{
 "cells": [
  {
   "cell_type": "markdown",
   "id": "73c6e50f",
   "metadata": {},
   "source": [
    "# Q4\n",
    "05-Aug-2022\n",
    "\n",
    "What is the Euclidean distance between two points (2,4,6) and (3,8)?\n",
    "\n",
    "What is the Manhattan distance in the above case?"
   ]
  },
  {
   "cell_type": "markdown",
   "id": "473d430d",
   "metadata": {},
   "source": [
    "# Approach:\n",
    "For missing dimension, assume value 0. Google search did not give any result on how to calculate distance between 2d point and 3d point. Tried using the concept of distance, and it seemed fair, to assume missing dimension as zero."
   ]
  },
  {
   "cell_type": "code",
   "execution_count": 1,
   "id": "5d118b64",
   "metadata": {},
   "outputs": [],
   "source": [
    "import numpy as np"
   ]
  },
  {
   "cell_type": "code",
   "execution_count": 2,
   "id": "48cd58fc",
   "metadata": {},
   "outputs": [],
   "source": [
    "p1 = np.array((2, 4, 6))\n",
    "p2 = np.array((3, 8))"
   ]
  },
  {
   "cell_type": "code",
   "execution_count": 3,
   "id": "67719890",
   "metadata": {},
   "outputs": [],
   "source": [
    "p2_append = np.append(p2, np.zeros(p1.size - p2.size))"
   ]
  },
  {
   "cell_type": "code",
   "execution_count": 4,
   "id": "b5582f33",
   "metadata": {},
   "outputs": [],
   "source": [
    "def get_euclidean_distance(series_1, series_2):\n",
    "    return np.round(np.sqrt(np.sum((series_1 - series_2) ** 2)), 2)\n",
    "\n",
    "def get_manhattan_distance(series_1, series_2):\n",
    "    return np.round(np.sum(np.abs(series_1 - series_2)), 2)"
   ]
  },
  {
   "cell_type": "code",
   "execution_count": 5,
   "id": "56c8d58b",
   "metadata": {},
   "outputs": [
    {
     "name": "stdout",
     "output_type": "stream",
     "text": [
      "Euclidean distance is 7.28\n",
      "Manhattan distance is 11.0\n"
     ]
    }
   ],
   "source": [
    "e_d = get_euclidean_distance(p1, p2_append)\n",
    "m_d = get_manhattan_distance(p1, p2_append)\n",
    "\n",
    "print(f\"Euclidean distance is {e_d}\")\n",
    "print(f\"Manhattan distance is {m_d}\")"
   ]
  },
  {
   "cell_type": "code",
   "execution_count": null,
   "id": "107c5d75",
   "metadata": {},
   "outputs": [],
   "source": []
  }
 ],
 "metadata": {
  "kernelspec": {
   "display_name": "Python 3 (ipykernel)",
   "language": "python",
   "name": "python3"
  },
  "language_info": {
   "codemirror_mode": {
    "name": "ipython",
    "version": 3
   },
   "file_extension": ".py",
   "mimetype": "text/x-python",
   "name": "python",
   "nbconvert_exporter": "python",
   "pygments_lexer": "ipython3",
   "version": "3.8.10"
  }
 },
 "nbformat": 4,
 "nbformat_minor": 5
}
