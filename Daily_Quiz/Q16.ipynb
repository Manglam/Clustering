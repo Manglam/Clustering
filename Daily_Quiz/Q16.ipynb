{
 "cells": [
  {
   "cell_type": "markdown",
   "id": "88650641",
   "metadata": {},
   "source": [
    "# Q16: 25-Aug-2022\n",
    "\n",
    "Please refer to the “Perfume Data” from UCI ML repository. This data consists of odors of 20 different perfumes. Data was obtained by using a handheld odor meter (OMX-GR sensor) per second for 28 seconds period.\n",
    "The dataset is available on GitHub here - https://github.com/Accelerate-AI/UnsupervisedLearning_Clustering/blob/main/DailyQuestions/perfume_data.xlsx\n",
    "\n",
    "\n",
    "Perform cluster analysis using Kmeans clustering.\n",
    "\n",
    "    a)What is the optimum no. of clusters?\n",
    "    b)How do you see perfumes are segmented? Provide your inference."
   ]
  },
  {
   "cell_type": "code",
   "execution_count": 1,
   "id": "84eca3f0",
   "metadata": {},
   "outputs": [],
   "source": [
    "import pandas as pd\n",
    "import numpy as np\n",
    "\n",
    "from sklearn.cluster import KMeans\n",
    "from sklearn.metrics import silhouette_score, silhouette_samples\n",
    "\n",
    "import seaborn as sns\n",
    "import matplotlib.pyplot as plt"
   ]
  },
  {
   "cell_type": "code",
   "execution_count": 2,
   "id": "ebd89bb4",
   "metadata": {},
   "outputs": [
    {
     "data": {
      "text/html": [
       "<div>\n",
       "<style scoped>\n",
       "    .dataframe tbody tr th:only-of-type {\n",
       "        vertical-align: middle;\n",
       "    }\n",
       "\n",
       "    .dataframe tbody tr th {\n",
       "        vertical-align: top;\n",
       "    }\n",
       "\n",
       "    .dataframe thead th {\n",
       "        text-align: right;\n",
       "    }\n",
       "</style>\n",
       "<table border=\"1\" class=\"dataframe\">\n",
       "  <thead>\n",
       "    <tr style=\"text-align: right;\">\n",
       "      <th></th>\n",
       "      <th>0</th>\n",
       "      <th>1</th>\n",
       "      <th>2</th>\n",
       "      <th>3</th>\n",
       "      <th>4</th>\n",
       "      <th>5</th>\n",
       "      <th>6</th>\n",
       "      <th>7</th>\n",
       "      <th>8</th>\n",
       "      <th>9</th>\n",
       "      <th>...</th>\n",
       "      <th>19</th>\n",
       "      <th>20</th>\n",
       "      <th>21</th>\n",
       "      <th>22</th>\n",
       "      <th>23</th>\n",
       "      <th>24</th>\n",
       "      <th>25</th>\n",
       "      <th>26</th>\n",
       "      <th>27</th>\n",
       "      <th>28</th>\n",
       "    </tr>\n",
       "  </thead>\n",
       "  <tbody>\n",
       "    <tr>\n",
       "      <th>0</th>\n",
       "      <td>ajayeb</td>\n",
       "      <td>64558</td>\n",
       "      <td>64556</td>\n",
       "      <td>64543</td>\n",
       "      <td>64543</td>\n",
       "      <td>64541</td>\n",
       "      <td>64543</td>\n",
       "      <td>64543</td>\n",
       "      <td>64541</td>\n",
       "      <td>64541</td>\n",
       "      <td>...</td>\n",
       "      <td>64541</td>\n",
       "      <td>64541</td>\n",
       "      <td>64541</td>\n",
       "      <td>64541</td>\n",
       "      <td>64541</td>\n",
       "      <td>64541</td>\n",
       "      <td>64528</td>\n",
       "      <td>64528</td>\n",
       "      <td>64528</td>\n",
       "      <td>64528</td>\n",
       "    </tr>\n",
       "    <tr>\n",
       "      <th>1</th>\n",
       "      <td>ajmal</td>\n",
       "      <td>60502</td>\n",
       "      <td>60489</td>\n",
       "      <td>61485</td>\n",
       "      <td>60487</td>\n",
       "      <td>61485</td>\n",
       "      <td>61513</td>\n",
       "      <td>60515</td>\n",
       "      <td>60500</td>\n",
       "      <td>60500</td>\n",
       "      <td>...</td>\n",
       "      <td>60472</td>\n",
       "      <td>60472</td>\n",
       "      <td>60461</td>\n",
       "      <td>61470</td>\n",
       "      <td>60487</td>\n",
       "      <td>60487</td>\n",
       "      <td>61485</td>\n",
       "      <td>60487</td>\n",
       "      <td>60472</td>\n",
       "      <td>60472</td>\n",
       "    </tr>\n",
       "  </tbody>\n",
       "</table>\n",
       "<p>2 rows × 29 columns</p>\n",
       "</div>"
      ],
      "text/plain": [
       "       0      1      2      3      4      5      6      7      8      9   ...  \\\n",
       "0  ajayeb  64558  64556  64543  64543  64541  64543  64543  64541  64541  ...   \n",
       "1   ajmal  60502  60489  61485  60487  61485  61513  60515  60500  60500  ...   \n",
       "\n",
       "      19     20     21     22     23     24     25     26     27     28  \n",
       "0  64541  64541  64541  64541  64541  64541  64528  64528  64528  64528  \n",
       "1  60472  60472  60461  61470  60487  60487  61485  60487  60472  60472  \n",
       "\n",
       "[2 rows x 29 columns]"
      ]
     },
     "execution_count": 2,
     "metadata": {},
     "output_type": "execute_result"
    }
   ],
   "source": [
    "df = pd.read_excel(\"perfume_data.xlsx\", header=None)\n",
    "df.head(2)"
   ]
  },
  {
   "cell_type": "code",
   "execution_count": 3,
   "id": "28277a20",
   "metadata": {},
   "outputs": [
    {
     "data": {
      "text/html": [
       "<div>\n",
       "<style scoped>\n",
       "    .dataframe tbody tr th:only-of-type {\n",
       "        vertical-align: middle;\n",
       "    }\n",
       "\n",
       "    .dataframe tbody tr th {\n",
       "        vertical-align: top;\n",
       "    }\n",
       "\n",
       "    .dataframe thead th {\n",
       "        text-align: right;\n",
       "    }\n",
       "</style>\n",
       "<table border=\"1\" class=\"dataframe\">\n",
       "  <thead>\n",
       "    <tr style=\"text-align: right;\">\n",
       "      <th></th>\n",
       "      <th>perfume_name</th>\n",
       "      <th>feature_1</th>\n",
       "      <th>feature_2</th>\n",
       "      <th>feature_3</th>\n",
       "      <th>feature_4</th>\n",
       "      <th>feature_5</th>\n",
       "      <th>feature_6</th>\n",
       "      <th>feature_7</th>\n",
       "      <th>feature_8</th>\n",
       "      <th>feature_9</th>\n",
       "      <th>...</th>\n",
       "      <th>feature_19</th>\n",
       "      <th>feature_20</th>\n",
       "      <th>feature_21</th>\n",
       "      <th>feature_22</th>\n",
       "      <th>feature_23</th>\n",
       "      <th>feature_24</th>\n",
       "      <th>feature_25</th>\n",
       "      <th>feature_26</th>\n",
       "      <th>feature_27</th>\n",
       "      <th>feature_28</th>\n",
       "    </tr>\n",
       "  </thead>\n",
       "  <tbody>\n",
       "    <tr>\n",
       "      <th>0</th>\n",
       "      <td>ajayeb</td>\n",
       "      <td>64558</td>\n",
       "      <td>64556</td>\n",
       "      <td>64543</td>\n",
       "      <td>64543</td>\n",
       "      <td>64541</td>\n",
       "      <td>64543</td>\n",
       "      <td>64543</td>\n",
       "      <td>64541</td>\n",
       "      <td>64541</td>\n",
       "      <td>...</td>\n",
       "      <td>64541</td>\n",
       "      <td>64541</td>\n",
       "      <td>64541</td>\n",
       "      <td>64541</td>\n",
       "      <td>64541</td>\n",
       "      <td>64541</td>\n",
       "      <td>64528</td>\n",
       "      <td>64528</td>\n",
       "      <td>64528</td>\n",
       "      <td>64528</td>\n",
       "    </tr>\n",
       "    <tr>\n",
       "      <th>1</th>\n",
       "      <td>ajmal</td>\n",
       "      <td>60502</td>\n",
       "      <td>60489</td>\n",
       "      <td>61485</td>\n",
       "      <td>60487</td>\n",
       "      <td>61485</td>\n",
       "      <td>61513</td>\n",
       "      <td>60515</td>\n",
       "      <td>60500</td>\n",
       "      <td>60500</td>\n",
       "      <td>...</td>\n",
       "      <td>60472</td>\n",
       "      <td>60472</td>\n",
       "      <td>60461</td>\n",
       "      <td>61470</td>\n",
       "      <td>60487</td>\n",
       "      <td>60487</td>\n",
       "      <td>61485</td>\n",
       "      <td>60487</td>\n",
       "      <td>60472</td>\n",
       "      <td>60472</td>\n",
       "    </tr>\n",
       "  </tbody>\n",
       "</table>\n",
       "<p>2 rows × 29 columns</p>\n",
       "</div>"
      ],
      "text/plain": [
       "  perfume_name  feature_1  feature_2  feature_3  feature_4  feature_5  \\\n",
       "0       ajayeb      64558      64556      64543      64543      64541   \n",
       "1        ajmal      60502      60489      61485      60487      61485   \n",
       "\n",
       "   feature_6  feature_7  feature_8  feature_9  ...  feature_19  feature_20  \\\n",
       "0      64543      64543      64541      64541  ...       64541       64541   \n",
       "1      61513      60515      60500      60500  ...       60472       60472   \n",
       "\n",
       "   feature_21  feature_22  feature_23  feature_24  feature_25  feature_26  \\\n",
       "0       64541       64541       64541       64541       64528       64528   \n",
       "1       60461       61470       60487       60487       61485       60487   \n",
       "\n",
       "   feature_27  feature_28  \n",
       "0       64528       64528  \n",
       "1       60472       60472  \n",
       "\n",
       "[2 rows x 29 columns]"
      ]
     },
     "execution_count": 3,
     "metadata": {},
     "output_type": "execute_result"
    }
   ],
   "source": [
    "num_features = ['feature_' + str(x) for x in range(1, df.shape[1])]\n",
    "df.columns = ['perfume_name'] + num_features\n",
    "df.head(2)"
   ]
  },
  {
   "cell_type": "code",
   "execution_count": 4,
   "id": "88cb08d0",
   "metadata": {},
   "outputs": [],
   "source": [
    "# we dont need to scale the features, since every feature represents same reading, but at different times\n",
    "# start kmeans\n",
    "sse, slc = {}, {}\n",
    "x=df[num_features]\n",
    "for k in range(2, 8):\n",
    "    kmeans = KMeans(n_clusters = k, max_iter = 1000, n_init = 10, init = 'k-means++', random_state=123).fit(x)\n",
    "    clusters = kmeans.labels_\n",
    "    sse[k] = kmeans.inertia_\n",
    "    slc[k] = silhouette_score(x, clusters)"
   ]
  },
  {
   "cell_type": "code",
   "execution_count": 5,
   "id": "ac0f701f",
   "metadata": {},
   "outputs": [
    {
     "data": {
      "image/png": "[encoded data removed]",
      "text/plain": [
       "<Figure size 1296x288 with 2 Axes>"
      ]
     },
     "metadata": {
      "needs_background": "light"
     },
     "output_type": "display_data"
    }
   ],
   "source": [
    "fig, (ax1, ax2) = plt.subplots(1,2, figsize=(18,4), sharex=False, sharey=False)\n",
    "\n",
    "# Visualize clusters\n",
    "#ax1.set_title('Data')\n",
    "#sns.scatterplot(data=df, x='feature_1', y='feature_2', hue = 'clusters', ax=ax1);\n",
    "\n",
    "# Visualize Silhouette score\n",
    "ax1.plot(list(slc.keys()), list(slc.values()), marker='o')\n",
    "ax1.set_title('Silhouette score')\n",
    "ax1.set_xlabel('Number of Clusters', fontsize=8)\n",
    "ax1.set_ylabel('Silhouette Score', fontsize=8)\n",
    "\n",
    "# Visaulize kmeans cluster\n",
    "ax2.plot(list(sse.keys()), list(sse.values()), marker='o')\n",
    "ax2.set_title('Kmeans SSE')\n",
    "ax2.set_xlabel('Number of Clusters', fontsize=8)\n",
    "ax2.set_ylabel('SSE', fontsize=8)\n",
    "plt.show()"
   ]
  },
  {
   "cell_type": "code",
   "execution_count": 6,
   "id": "0e520ffc",
   "metadata": {},
   "outputs": [],
   "source": [
    "# By comparing both Sihouette score as well as elbow of Kmeans SSE, we can go with k = 4 or 5. In this case, lets go with K= 5\n",
    "kmeans = KMeans(n_clusters = 5, max_iter = 10000, n_init = 5, init = 'k-means++', random_state=123).fit(x)\n",
    "clusters_labels = kmeans.labels_\n",
    "\n",
    "df['clusters'] = ['Cluster_' + str(x) for x in clusters_labels.tolist()]\n",
    "df.sort_values(by='clusters', inplace=True)"
   ]
  },
  {
   "cell_type": "code",
   "execution_count": 7,
   "id": "df6d7182",
   "metadata": {},
   "outputs": [
    {
     "data": {
      "image/png": "[encoded data removed]",
      "text/plain": [
       "<Figure size 1296x504 with 1 Axes>"
      ]
     },
     "metadata": {
      "needs_background": "light"
     },
     "output_type": "display_data"
    }
   ],
   "source": [
    "plt.figure(figsize=(18,7))\n",
    "sns.scatterplot(data=df, x='feature_1', y='feature_2', hue = 'clusters')\n",
    "\n",
    "#for i in range(df.shape[0]):\n",
    "#    plt.text(x=df.feature_1[i] ,y = df.feature_2[i] - 3000, s=df.perfume_name[i], \n",
    "#              fontdict=dict(color='red', size=10),\n",
    "#              bbox=dict(facecolor='yellow',alpha=0.5)\n",
    "#            )\n",
    "plt.show()"
   ]
  },
  {
   "cell_type": "markdown",
   "id": "b7629b03",
   "metadata": {},
   "source": [
    "# Interpretation\n",
    "\n",
    "    - Based on the value of odor meter, the kmeans clustering is dividing the dataset into 5 clusters. \n",
    "    - All the clusters appear well separated and makes sense by visual inspection. \n",
    "    - If price of these perfumes available, then it will be interesting to understand how the price varies for each\n",
    "      cluster. Inside a cluster, we should not expect much variation in price."
   ]
  },
  {
   "cell_type": "code",
   "execution_count": null,
   "id": "00944650",
   "metadata": {},
   "outputs": [],
   "source": []
  }
 ],
 "metadata": {
  "kernelspec": {
   "display_name": "Python 3 (ipykernel)",
   "language": "python",
   "name": "python3"
  },
  "language_info": {
   "codemirror_mode": {
    "name": "ipython",
    "version": 3
   },
   "file_extension": ".py",
   "mimetype": "text/x-python",
   "name": "python",
   "nbconvert_exporter": "python",
   "pygments_lexer": "ipython3",
   "version": "3.8.10"
  }
 },
 "nbformat": 4,
 "nbformat_minor": 5
}
