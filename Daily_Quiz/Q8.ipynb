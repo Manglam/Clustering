{
 "cells": [
  {
   "cell_type": "markdown",
   "id": "e8406900",
   "metadata": {},
   "source": [
    "# Q8\n",
    "\n",
    "There are 6 points given and the X and Y coordinate are provided as per below table. Create the distance matrix. Use Euclidean distance measure for your computation.\n",
    "\n",
    "| Point    | X    | Y    |\n",
    "| ------   | --   | --   |\n",
    "| Point P1 | 0.40 | 0.53 |\n",
    "| Point P2 | 0.22 | 0.38 |\n",
    "| Point P3 | 0.35 | 0.32 |\n",
    "| Point P4 | 0.26 | 0.19 |\n",
    "| Point P5 | 0.08 | 0.41 |\n",
    "| Point P6 | 0.45 | 0.30 |\n"
   ]
  },
  {
   "cell_type": "code",
   "execution_count": 1,
   "id": "ca4a83b9",
   "metadata": {},
   "outputs": [],
   "source": [
    "import numpy as np\n",
    "import pandas as pd\n",
    "from sklearn.metrics.pairwise import euclidean_distances\n",
    "import seaborn as sns\n",
    "import matplotlib.pyplot as plt"
   ]
  },
  {
   "cell_type": "code",
   "execution_count": 2,
   "id": "062b14cd",
   "metadata": {},
   "outputs": [
    {
     "data": {
      "text/plain": [
       "array([[0.4 , 0.53],\n",
       "       [0.22, 0.38],\n",
       "       [0.35, 0.32],\n",
       "       [0.26, 0.19],\n",
       "       [0.08, 0.41],\n",
       "       [0.45, 0.3 ]])"
      ]
     },
     "execution_count": 2,
     "metadata": {},
     "output_type": "execute_result"
    }
   ],
   "source": [
    "data = np.array([(0.40, 0.53), (0.22, 0.38), (0.35, 0.32), (0.26, 0.19), (0.08, 0.41), (0.45, 0.30)])\n",
    "data"
   ]
  },
  {
   "cell_type": "code",
   "execution_count": 3,
   "id": "5bf0aac9",
   "metadata": {},
   "outputs": [
    {
     "data": {
      "text/plain": [
       "['Point P1', 'Point P2', 'Point P3', 'Point P4', 'Point P5', 'Point P6']"
      ]
     },
     "execution_count": 3,
     "metadata": {},
     "output_type": "execute_result"
    }
   ],
   "source": [
    "point_names = ['Point P' + str(x) for x in range(1, 7)]\n",
    "point_names"
   ]
  },
  {
   "cell_type": "code",
   "execution_count": 4,
   "id": "99a01f1c",
   "metadata": {},
   "outputs": [
    {
     "data": {
      "text/html": [
       "<div>\n",
       "<style scoped>\n",
       "    .dataframe tbody tr th:only-of-type {\n",
       "        vertical-align: middle;\n",
       "    }\n",
       "\n",
       "    .dataframe tbody tr th {\n",
       "        vertical-align: top;\n",
       "    }\n",
       "\n",
       "    .dataframe thead th {\n",
       "        text-align: right;\n",
       "    }\n",
       "</style>\n",
       "<table border=\"1\" class=\"dataframe\">\n",
       "  <thead>\n",
       "    <tr style=\"text-align: right;\">\n",
       "      <th></th>\n",
       "      <th>Point P1</th>\n",
       "      <th>Point P2</th>\n",
       "      <th>Point P3</th>\n",
       "      <th>Point P4</th>\n",
       "      <th>Point P5</th>\n",
       "      <th>Point P6</th>\n",
       "    </tr>\n",
       "  </thead>\n",
       "  <tbody>\n",
       "    <tr>\n",
       "      <th>Point P1</th>\n",
       "      <td>0.00</td>\n",
       "      <td>0.23</td>\n",
       "      <td>0.22</td>\n",
       "      <td>0.37</td>\n",
       "      <td>0.34</td>\n",
       "      <td>0.24</td>\n",
       "    </tr>\n",
       "    <tr>\n",
       "      <th>Point P2</th>\n",
       "      <td>0.23</td>\n",
       "      <td>0.00</td>\n",
       "      <td>0.14</td>\n",
       "      <td>0.19</td>\n",
       "      <td>0.14</td>\n",
       "      <td>0.24</td>\n",
       "    </tr>\n",
       "    <tr>\n",
       "      <th>Point P3</th>\n",
       "      <td>0.22</td>\n",
       "      <td>0.14</td>\n",
       "      <td>0.00</td>\n",
       "      <td>0.16</td>\n",
       "      <td>0.28</td>\n",
       "      <td>0.10</td>\n",
       "    </tr>\n",
       "    <tr>\n",
       "      <th>Point P4</th>\n",
       "      <td>0.37</td>\n",
       "      <td>0.19</td>\n",
       "      <td>0.16</td>\n",
       "      <td>0.00</td>\n",
       "      <td>0.28</td>\n",
       "      <td>0.22</td>\n",
       "    </tr>\n",
       "    <tr>\n",
       "      <th>Point P5</th>\n",
       "      <td>0.34</td>\n",
       "      <td>0.14</td>\n",
       "      <td>0.28</td>\n",
       "      <td>0.28</td>\n",
       "      <td>0.00</td>\n",
       "      <td>0.39</td>\n",
       "    </tr>\n",
       "    <tr>\n",
       "      <th>Point P6</th>\n",
       "      <td>0.24</td>\n",
       "      <td>0.24</td>\n",
       "      <td>0.10</td>\n",
       "      <td>0.22</td>\n",
       "      <td>0.39</td>\n",
       "      <td>0.00</td>\n",
       "    </tr>\n",
       "  </tbody>\n",
       "</table>\n",
       "</div>"
      ],
      "text/plain": [
       "          Point P1  Point P2  Point P3  Point P4  Point P5  Point P6\n",
       "Point P1      0.00      0.23      0.22      0.37      0.34      0.24\n",
       "Point P2      0.23      0.00      0.14      0.19      0.14      0.24\n",
       "Point P3      0.22      0.14      0.00      0.16      0.28      0.10\n",
       "Point P4      0.37      0.19      0.16      0.00      0.28      0.22\n",
       "Point P5      0.34      0.14      0.28      0.28      0.00      0.39\n",
       "Point P6      0.24      0.24      0.10      0.22      0.39      0.00"
      ]
     },
     "execution_count": 4,
     "metadata": {},
     "output_type": "execute_result"
    }
   ],
   "source": [
    "distance_matrix = np.round(euclidean_distances(data, data), 2)\n",
    "pd.DataFrame(distance_matrix, index=point_names, columns=point_names)"
   ]
  },
  {
   "cell_type": "code",
   "execution_count": 5,
   "id": "a8a41563",
   "metadata": {},
   "outputs": [
    {
     "data": {
      "image/png": "[encoded data removed]",
      "text/plain": [
       "<Figure size 864x432 with 2 Axes>"
      ]
     },
     "metadata": {
      "needs_background": "light"
     },
     "output_type": "display_data"
    }
   ],
   "source": [
    "plt.figure(figsize=(12, 6))\n",
    "g = sns.heatmap(distance_matrix, annot=True, xticklabels=point_names)\n",
    "g.set_yticklabels(labels=point_names, rotation=0)\n",
    "plt.show()"
   ]
  },
  {
   "cell_type": "code",
   "execution_count": 6,
   "id": "0d13ee4d",
   "metadata": {},
   "outputs": [
    {
     "data": {
      "image/png": "[encoded data removed]",
      "text/plain": [
       "<Figure size 432x288 with 1 Axes>"
      ]
     },
     "metadata": {
      "needs_background": "light"
     },
     "output_type": "display_data"
    }
   ],
   "source": [
    "x = data[:, 0]\n",
    "y = data[:, 1]\n",
    "label = [\"Point P\" + str(x) for x in list(range(1, 7))]\n",
    "plt.scatter(x, y)\n",
    "# Annotate all data points\n",
    "for i in range(len(x)):\n",
    "    plt.annotate(label[i], (x[i], y[i]))\n",
    "plt.show()"
   ]
  },
  {
   "cell_type": "code",
   "execution_count": null,
   "id": "5d9cc64a",
   "metadata": {},
   "outputs": [],
   "source": []
  }
 ],
 "metadata": {
  "kernelspec": {
   "display_name": "Python 3 (ipykernel)",
   "language": "python",
   "name": "python3"
  },
  "language_info": {
   "codemirror_mode": {
    "name": "ipython",
    "version": 3
   },
   "file_extension": ".py",
   "mimetype": "text/x-python",
   "name": "python",
   "nbconvert_exporter": "python",
   "pygments_lexer": "ipython3",
   "version": "3.8.10"
  }
 },
 "nbformat": 4,
 "nbformat_minor": 5
}
