{
 "cells": [
  {
   "cell_type": "markdown",
   "id": "513dfdd0",
   "metadata": {},
   "source": [
    "# Q6\n",
    "\n",
    "09-Aug-2022\n",
    "\n",
    "We have seen an example of dendrogram using Hierarchical Clustering with mtcars dataset. Likewise, let's create a dendrogram in python.\n",
    "\n",
    "Consider NumPy random array of 5 numbers.\n",
    "Use “scipy.cluster.hierarchy” to create a dendrogram.\n",
    "\n",
    "You can use any linkage method and show how the dendrogram creates clustering based on the values and distance measure between them. You can use matplotlib.pyplot to plot the dendrogram."
   ]
  },
  {
   "cell_type": "code",
   "execution_count": 1,
   "id": "584fa0af",
   "metadata": {},
   "outputs": [],
   "source": [
    "import scipy.cluster.hierarchy as shc\n",
    "import numpy as np\n",
    "import matplotlib.pyplot as plt"
   ]
  },
  {
   "cell_type": "code",
   "execution_count": 2,
   "id": "ad9089ec",
   "metadata": {},
   "outputs": [
    {
     "data": {
      "text/plain": [
       "array([[0.22199317, 0.87073231],\n",
       "       [0.20671916, 0.91861091],\n",
       "       [0.48841119, 0.61174386],\n",
       "       [0.76590786, 0.51841799],\n",
       "       [0.2968005 , 0.18772123]])"
      ]
     },
     "execution_count": 2,
     "metadata": {},
     "output_type": "execute_result"
    }
   ],
   "source": [
    "# generate data using numpy \n",
    "np.random.seed(5)\n",
    "data = np.random.random((5, 2))\n",
    "data"
   ]
  },
  {
   "cell_type": "code",
   "execution_count": 3,
   "id": "0e7388aa",
   "metadata": {},
   "outputs": [],
   "source": [
    "clusters = shc.linkage(data)"
   ]
  },
  {
   "cell_type": "code",
   "execution_count": 4,
   "id": "0442bada",
   "metadata": {},
   "outputs": [
    {
     "data": {
      "image/png": "[encoded data removed]",
      "text/plain": [
       "<Figure size 720x288 with 1 Axes>"
      ]
     },
     "metadata": {
      "needs_background": "light"
     },
     "output_type": "display_data"
    }
   ],
   "source": [
    "plt.figure(figsize=(10, 4))\n",
    "plt.title(\"Sample Dendrogram\")\n",
    "shc.dendrogram(Z=clusters)\n",
    "plt.show()"
   ]
  },
  {
   "cell_type": "code",
   "execution_count": 5,
   "id": "c1e29b35",
   "metadata": {},
   "outputs": [
    {
     "data": {
      "image/png": "[encoded data removed]",
      "text/plain": [
       "<Figure size 432x288 with 1 Axes>"
      ]
     },
     "metadata": {
      "needs_background": "light"
     },
     "output_type": "display_data"
    }
   ],
   "source": [
    "x = data[:, 0]\n",
    "y = data[:, 1]\n",
    "label = [\"p\" + str(x) for x in list(range(len(x)))]\n",
    "plt.scatter(x, y)\n",
    "# Annotate all data points\n",
    "for i in range(len(x)):\n",
    "    plt.annotate(label[i], (x[i], y[i]))\n",
    "plt.show()"
   ]
  },
  {
   "cell_type": "markdown",
   "id": "a14588e0",
   "metadata": {},
   "source": [
    "Scatter plot of points, prove that dendrogram results are inline with data."
   ]
  },
  {
   "cell_type": "code",
   "execution_count": null,
   "id": "0be26a4b",
   "metadata": {},
   "outputs": [],
   "source": []
  }
 ],
 "metadata": {
  "kernelspec": {
   "display_name": "Python 3 (ipykernel)",
   "language": "python",
   "name": "python3"
  },
  "language_info": {
   "codemirror_mode": {
    "name": "ipython",
    "version": 3
   },
   "file_extension": ".py",
   "mimetype": "text/x-python",
   "name": "python",
   "nbconvert_exporter": "python",
   "pygments_lexer": "ipython3",
   "version": "3.8.10"
  }
 },
 "nbformat": 4,
 "nbformat_minor": 5
}
