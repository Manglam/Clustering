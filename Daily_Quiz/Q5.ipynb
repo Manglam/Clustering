{
 "cells": [
  {
   "cell_type": "markdown",
   "id": "50528f29",
   "metadata": {},
   "source": [
    "# Q5: 08-Aug-2022\n",
    "\n",
    "Consider there are two datasets represented in arrays.\n",
    "\n",
    "dataset1:\n",
    "[1, 2], [1, 4], [1, 0],[10, 2], [10, 4], [10, 0]]\n",
    "\n",
    "dataset2:\n",
    "[1, 2], [1, 4], [1, 0],[10, 2], [10, 4], [94, 12]\n",
    "\n",
    "What will happen if we try to apply a centroid based clustering on each of the above dataset? Will there be any difference?"
   ]
  },
  {
   "cell_type": "markdown",
   "id": "1ec11d04",
   "metadata": {},
   "source": [
    "# Approach\n",
    "1. Try k-means clustering on each of the datasets 100 times, for 2 centres\n",
    "2. Take the average and compare the difference between the two\n",
    "3. If the results are similar, then it means no difference, otherwise we will say that two datasets have different clusters"
   ]
  },
  {
   "cell_type": "code",
   "execution_count": 1,
   "id": "190ba82f",
   "metadata": {},
   "outputs": [],
   "source": [
    "from sklearn.cluster import KMeans\n",
    "import numpy as np"
   ]
  },
  {
   "cell_type": "code",
   "execution_count": 2,
   "id": "49847ad5",
   "metadata": {},
   "outputs": [],
   "source": [
    "# create data sets\n",
    "x_1 = np.array([[1, 2], [1, 4], [1, 0],[10, 2], [10, 4], [10, 0]])\n",
    "x_2 = np.array([[1, 2], [1, 4], [1, 0],[10, 2], [10, 4], [94, 12]])"
   ]
  },
  {
   "cell_type": "code",
   "execution_count": 3,
   "id": "61e58e45",
   "metadata": {},
   "outputs": [],
   "source": [
    "def get_kmeans_cluster_with_averaging(x, iterations):\n",
    "    \n",
    "    counter = 0\n",
    "    for i in range(0, iterations):\n",
    "        kmeans = KMeans(n_clusters=2, random_state=i).fit(x)\n",
    "        x1 = kmeans.cluster_centers_\n",
    "        if counter == 0:\n",
    "            retval = x1\n",
    "            counter = 1\n",
    "        else:\n",
    "            retval = retval + x1\n",
    "        \n",
    "    return retval/iterations"
   ]
  },
  {
   "cell_type": "code",
   "execution_count": 4,
   "id": "f0e7e7e8",
   "metadata": {},
   "outputs": [
    {
     "data": {
      "text/plain": [
       "array([[5.95, 2.  ],\n",
       "       [5.05, 2.  ]])"
      ]
     },
     "execution_count": 4,
     "metadata": {},
     "output_type": "execute_result"
    }
   ],
   "source": [
    "get_kmeans_cluster_with_averaging(x_1, 100)"
   ]
  },
  {
   "cell_type": "code",
   "execution_count": 5,
   "id": "3782a7ca",
   "metadata": {},
   "outputs": [
    {
     "data": {
      "text/plain": [
       "array([[21.586,  4.224],\n",
       "       [77.014, 10.176]])"
      ]
     },
     "execution_count": 5,
     "metadata": {},
     "output_type": "execute_result"
    }
   ],
   "source": [
    "get_kmeans_cluster_with_averaging(x_2, 100)"
   ]
  },
  {
   "cell_type": "markdown",
   "id": "124cefb4",
   "metadata": {},
   "source": [
    "With Cetroid method, we observe cluster centres very far for the two datasets. This verifies that centroid based alogorithms, will suffer when data has outliers."
   ]
  },
  {
   "cell_type": "code",
   "execution_count": null,
   "id": "da3386d5",
   "metadata": {},
   "outputs": [],
   "source": []
  }
 ],
 "metadata": {
  "kernelspec": {
   "display_name": "Python 3 (ipykernel)",
   "language": "python",
   "name": "python3"
  },
  "language_info": {
   "codemirror_mode": {
    "name": "ipython",
    "version": 3
   },
   "file_extension": ".py",
   "mimetype": "text/x-python",
   "name": "python",
   "nbconvert_exporter": "python",
   "pygments_lexer": "ipython3",
   "version": "3.8.10"
  }
 },
 "nbformat": 4,
 "nbformat_minor": 5
}
