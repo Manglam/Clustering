{
 "cells": [
  {
   "cell_type": "markdown",
   "id": "a63e6a93",
   "metadata": {},
   "source": [
    "# Q3: 04-Aug-2022\n",
    "\n",
    "Create two random set of 5-dimensional vectors with number ranging from 0 to 10 using NumPy. \n",
    "Create another random set of 100-dimensional vectors with number ranging from 0 to 10 using NumPy for each set.\n",
    "\n",
    "Compare the distance metrics for Euclidean, Manhattan and Chebyshev.\n",
    "\n",
    "You can use uniform distribution."
   ]
  },
  {
   "cell_type": "code",
   "execution_count": 1,
   "id": "f7edd6a2",
   "metadata": {},
   "outputs": [],
   "source": [
    "import numpy as np\n",
    "from scipy.spatial.distance import chebyshev as chebyshev"
   ]
  },
  {
   "cell_type": "code",
   "execution_count": 2,
   "id": "5aa97f61",
   "metadata": {},
   "outputs": [],
   "source": [
    "# set seed for reproducibility\n",
    "np.random.seed(1)\n",
    "\n",
    "# Create two random set of 5-dimensional vectors with number ranging from 0 to 10 using NumPy\n",
    "vec_1 = np.random.uniform(low=0.0, high=10, size=5)\n",
    "vec_2 = np.random.uniform(low=0.0, high=10, size=5)\n",
    "\n",
    "#  Create another random set of 100-dimensional vectors with number ranging from 0 to 10 using NumPy for each set.\n",
    "vec_100_1 = np.random.uniform(low=0.0, high=10, size=100)\n",
    "vec_100_2 = np.random.uniform(low=0.0, high=10, size=100)"
   ]
  },
  {
   "cell_type": "code",
   "execution_count": 3,
   "id": "e9d3e04b",
   "metadata": {},
   "outputs": [],
   "source": [
    "def get_euclidean_distance(series_1, series_2):\n",
    "    return np.round(np.sqrt(np.sum((series_1 - series_2) ** 2)), 2)\n",
    "\n",
    "def get_manhattan_distance(series_1, series_2):\n",
    "    return np.round(np.sum(np.abs(series_1 - series_2)), 2)\n",
    "\n",
    "def get_chebyshev_distance(series_1, series_2):\n",
    "    return np.round(np.max(np.abs(series_1 - series_2)), 2)"
   ]
  },
  {
   "cell_type": "code",
   "execution_count": 4,
   "id": "e9e17145",
   "metadata": {},
   "outputs": [
    {
     "name": "stdout",
     "output_type": "stream",
     "text": [
      "For 5 dimisional vectors, below is the distances: \n",
      "Euclidean distance is 8.2\n",
      "Manhattan distance is 16.91\n",
      "Chebyshev distance is 5.34\n"
     ]
    }
   ],
   "source": [
    "# compare the three distances for 5 dimensional vectors\n",
    "e1 = get_euclidean_distance(vec_1, vec_2)\n",
    "m1 = get_manhattan_distance(vec_1, vec_2)\n",
    "c1 = get_chebyshev_distance(vec_1, vec_2)\n",
    "\n",
    "print(\"For 5 dimisional vectors, below is the distances: \")\n",
    "print(f\"Euclidean distance is {e1}\")\n",
    "print(f\"Manhattan distance is {m1}\")\n",
    "print(f\"Chebyshev distance is {c1}\")"
   ]
  },
  {
   "cell_type": "code",
   "execution_count": 5,
   "id": "2367b4ab",
   "metadata": {},
   "outputs": [
    {
     "name": "stdout",
     "output_type": "stream",
     "text": [
      "For 100 dimisional vectors, below is the distances: \n",
      "Euclidean distance is 42.52\n",
      "Manhattan distance is 348.92\n",
      "Chebyshev distance is 9.42\n"
     ]
    }
   ],
   "source": [
    "# compare the three distances for 100 dimensional vectors\n",
    "e2 = get_euclidean_distance(vec_100_1, vec_100_2)\n",
    "m2 = get_manhattan_distance(vec_100_1, vec_100_2)\n",
    "c2 = get_chebyshev_distance(vec_100_1, vec_100_2)\n",
    "\n",
    "print(\"For 100 dimisional vectors, below is the distances: \")\n",
    "print(f\"Euclidean distance is {e2}\")\n",
    "print(f\"Manhattan distance is {m2}\")\n",
    "print(f\"Chebyshev distance is {c2}\")"
   ]
  },
  {
   "cell_type": "code",
   "execution_count": null,
   "id": "122da553",
   "metadata": {},
   "outputs": [],
   "source": []
  }
 ],
 "metadata": {
  "kernelspec": {
   "display_name": "Python 3 (ipykernel)",
   "language": "python",
   "name": "python3"
  },
  "language_info": {
   "codemirror_mode": {
    "name": "ipython",
    "version": 3
   },
   "file_extension": ".py",
   "mimetype": "text/x-python",
   "name": "python",
   "nbconvert_exporter": "python",
   "pygments_lexer": "ipython3",
   "version": "3.8.10"
  }
 },
 "nbformat": 4,
 "nbformat_minor": 5
}
