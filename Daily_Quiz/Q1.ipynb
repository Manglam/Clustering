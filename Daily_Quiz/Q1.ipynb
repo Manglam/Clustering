{
 "cells": [
  {
   "cell_type": "markdown",
   "id": "7fd58639",
   "metadata": {},
   "source": [
    "# Q1: 02-Aug-2022\n",
    "\n",
    "Please refer to the Universities.xlsx on GitHub (https://github.com/Accelerate-AI/UnsupervisedLearning_Clustering/tree/main/DailyQuestions/Universities.xlsx). \n",
    "\n",
    "Find out the Euclidean distance between Stanford and MIT.\n"
   ]
  },
  {
   "cell_type": "code",
   "execution_count": 1,
   "id": "3d1c46f2",
   "metadata": {},
   "outputs": [],
   "source": [
    "import pandas as pd\n",
    "import numpy as np"
   ]
  },
  {
   "cell_type": "code",
   "execution_count": 2,
   "id": "6a985544",
   "metadata": {},
   "outputs": [
    {
     "data": {
      "text/html": [
       "<div>\n",
       "<style scoped>\n",
       "    .dataframe tbody tr th:only-of-type {\n",
       "        vertical-align: middle;\n",
       "    }\n",
       "\n",
       "    .dataframe tbody tr th {\n",
       "        vertical-align: top;\n",
       "    }\n",
       "\n",
       "    .dataframe thead th {\n",
       "        text-align: right;\n",
       "    }\n",
       "</style>\n",
       "<table border=\"1\" class=\"dataframe\">\n",
       "  <thead>\n",
       "    <tr style=\"text-align: right;\">\n",
       "      <th></th>\n",
       "      <th>Univ</th>\n",
       "      <th>SAT</th>\n",
       "      <th>Top10</th>\n",
       "      <th>Accept</th>\n",
       "      <th>SFRatio</th>\n",
       "      <th>Expenses</th>\n",
       "      <th>GradRate</th>\n",
       "    </tr>\n",
       "  </thead>\n",
       "  <tbody>\n",
       "    <tr>\n",
       "      <th>0</th>\n",
       "      <td>Brown</td>\n",
       "      <td>1310</td>\n",
       "      <td>89</td>\n",
       "      <td>22</td>\n",
       "      <td>13</td>\n",
       "      <td>22704</td>\n",
       "      <td>94</td>\n",
       "    </tr>\n",
       "    <tr>\n",
       "      <th>1</th>\n",
       "      <td>CalTech</td>\n",
       "      <td>1415</td>\n",
       "      <td>100</td>\n",
       "      <td>25</td>\n",
       "      <td>6</td>\n",
       "      <td>63575</td>\n",
       "      <td>81</td>\n",
       "    </tr>\n",
       "  </tbody>\n",
       "</table>\n",
       "</div>"
      ],
      "text/plain": [
       "      Univ   SAT  Top10  Accept  SFRatio  Expenses  GradRate\n",
       "0    Brown  1310     89      22       13     22704        94\n",
       "1  CalTech  1415    100      25        6     63575        81"
      ]
     },
     "execution_count": 2,
     "metadata": {},
     "output_type": "execute_result"
    }
   ],
   "source": [
    "col_list = ['Univ', 'SAT', 'Top10', 'Accept', 'SFRatio', 'Expenses', 'GradRate']\n",
    "df = pd.read_excel(\"Universities.xlsx\", usecols=col_list)\n",
    "df.head(2)"
   ]
  },
  {
   "cell_type": "code",
   "execution_count": 3,
   "id": "fc50b139",
   "metadata": {},
   "outputs": [],
   "source": [
    "series_Stanford = df[df['Univ'] == \"Stanford\"].copy().drop('Univ', axis = 1).iloc[0]\n",
    "series_MIT = df[df['Univ'] == \"MIT\"].copy().drop('Univ', axis = 1).iloc[0]"
   ]
  },
  {
   "cell_type": "code",
   "execution_count": 4,
   "id": "d5155ab7",
   "metadata": {},
   "outputs": [],
   "source": [
    "def get_euclidean_distince(series_1, series_2):\n",
    "    return np.round(np.sqrt(np.sum((series_1 - series_2) ** 2)), 2)"
   ]
  },
  {
   "cell_type": "code",
   "execution_count": 5,
   "id": "ecdfd9a1",
   "metadata": {},
   "outputs": [
    {
     "name": "stdout",
     "output_type": "stream",
     "text": [
      "Euclidean distance is : 1580.17\n"
     ]
    }
   ],
   "source": [
    "euc_dist = get_euclidean_distince(series_Stanford, series_MIT)\n",
    "print(f\"Euclidean distance is : {euc_dist}\")"
   ]
  },
  {
   "cell_type": "code",
   "execution_count": 6,
   "id": "4dff88ea",
   "metadata": {},
   "outputs": [],
   "source": [
    "# series_Stanford\n",
    "# series_MIT\n",
    "# (series_Stanford - series_MIT) ** 2"
   ]
  },
  {
   "cell_type": "markdown",
   "id": "edcb8a1e",
   "metadata": {},
   "source": [
    "# Answer:\n",
    "\n",
    "    1. The Euclidean distance between Stanford and MIT is  1580.17\n",
    "    2. We also observe that entire distance is based on Expenses value. To overcome this, we should try to normalize/standardize features, before calculaitng Euclidean distance"
   ]
  },
  {
   "cell_type": "code",
   "execution_count": null,
   "id": "5bee9929",
   "metadata": {},
   "outputs": [],
   "source": []
  }
 ],
 "metadata": {
  "kernelspec": {
   "display_name": "Python 3 (ipykernel)",
   "language": "python",
   "name": "python3"
  },
  "language_info": {
   "codemirror_mode": {
    "name": "ipython",
    "version": 3
   },
   "file_extension": ".py",
   "mimetype": "text/x-python",
   "name": "python",
   "nbconvert_exporter": "python",
   "pygments_lexer": "ipython3",
   "version": "3.8.10"
  }
 },
 "nbformat": 4,
 "nbformat_minor": 5
}
